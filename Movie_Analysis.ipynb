{
 "cells": [
  {
   "cell_type": "code",
   "execution_count": 1,
   "metadata": {},
   "outputs": [],
   "source": [
    "import pandas as pd\n",
    "import numpy as np\n",
    "import seaborn as sb\n",
    "import matplotlib.pyplot as plt"
   ]
  },
  {
   "cell_type": "code",
   "execution_count": 4,
   "metadata": {},
   "outputs": [
    {
     "data": {
      "text/html": [
       "<div>\n",
       "<style scoped>\n",
       "    .dataframe tbody tr th:only-of-type {\n",
       "        vertical-align: middle;\n",
       "    }\n",
       "\n",
       "    .dataframe tbody tr th {\n",
       "        vertical-align: top;\n",
       "    }\n",
       "\n",
       "    .dataframe thead th {\n",
       "        text-align: right;\n",
       "    }\n",
       "</style>\n",
       "<table border=\"1\" class=\"dataframe\">\n",
       "  <thead>\n",
       "    <tr style=\"text-align: right;\">\n",
       "      <th></th>\n",
       "      <th>Parasite</th>\n",
       "      <th>132 min</th>\n",
       "      <th>Drama, Thriller</th>\n",
       "      <th>Won 4 Oscars. 306 wins &amp; 264 nominations total</th>\n",
       "      <th>$53,369,749</th>\n",
       "    </tr>\n",
       "  </thead>\n",
       "  <tbody>\n",
       "    <tr>\n",
       "      <th>0</th>\n",
       "      <td>Green Book</td>\n",
       "      <td>130 min</td>\n",
       "      <td>Biography, Comedy, Drama</td>\n",
       "      <td>Won 3 Oscars. 58 wins &amp; 123 nominations total</td>\n",
       "      <td>$85,080,171</td>\n",
       "    </tr>\n",
       "    <tr>\n",
       "      <th>1</th>\n",
       "      <td>The Shape of Water</td>\n",
       "      <td>123 min</td>\n",
       "      <td>Drama, Fantasy, Romance</td>\n",
       "      <td>Won 4 Oscars. 136 wins &amp; 350 nominations total</td>\n",
       "      <td>$63,859,435</td>\n",
       "    </tr>\n",
       "    <tr>\n",
       "      <th>2</th>\n",
       "      <td>Moonlight</td>\n",
       "      <td>111 min</td>\n",
       "      <td>Drama</td>\n",
       "      <td>Won 3 Oscars. 231 wins &amp; 300 nominations total</td>\n",
       "      <td>$27,854,932</td>\n",
       "    </tr>\n",
       "    <tr>\n",
       "      <th>3</th>\n",
       "      <td>Spotlight</td>\n",
       "      <td>129 min</td>\n",
       "      <td>Biography, Crime, Drama</td>\n",
       "      <td>Won 2 Oscars. 124 wins &amp; 144 nominations total</td>\n",
       "      <td>$45,055,776</td>\n",
       "    </tr>\n",
       "    <tr>\n",
       "      <th>4</th>\n",
       "      <td>Birdman or (The Unexpected Virtue of Ignorance)</td>\n",
       "      <td>119 min</td>\n",
       "      <td>Comedy, Drama</td>\n",
       "      <td>Won 4 Oscars. 193 wins &amp; 293 nominations total</td>\n",
       "      <td>$42,340,598</td>\n",
       "    </tr>\n",
       "    <tr>\n",
       "      <th>5</th>\n",
       "      <td>12 Years a Slave</td>\n",
       "      <td>134 min</td>\n",
       "      <td>Biography, Drama, History</td>\n",
       "      <td>Won 3 Oscars. 242 wins &amp; 337 nominations total</td>\n",
       "      <td>$56,671,993</td>\n",
       "    </tr>\n",
       "    <tr>\n",
       "      <th>6</th>\n",
       "      <td>Argo</td>\n",
       "      <td>120 min</td>\n",
       "      <td>Biography, Drama, Thriller</td>\n",
       "      <td>Won 3 Oscars. 95 wins &amp; 156 nominations total</td>\n",
       "      <td>$136,025,503</td>\n",
       "    </tr>\n",
       "    <tr>\n",
       "      <th>7</th>\n",
       "      <td>The Artist</td>\n",
       "      <td>100 min</td>\n",
       "      <td>Comedy, Drama, Romance</td>\n",
       "      <td>Won 5 Oscars. 162 wins &amp; 204 nominations total</td>\n",
       "      <td>$44,671,682</td>\n",
       "    </tr>\n",
       "    <tr>\n",
       "      <th>8</th>\n",
       "      <td>The King's Speech</td>\n",
       "      <td>118 min</td>\n",
       "      <td>Biography, Drama, History</td>\n",
       "      <td>Won 4 Oscars. 108 wins &amp; 206 nominations total</td>\n",
       "      <td>$138,797,449</td>\n",
       "    </tr>\n",
       "  </tbody>\n",
       "</table>\n",
       "</div>"
      ],
      "text/plain": [
       "                                          Parasite  132 min  \\\n",
       "0                                       Green Book  130 min   \n",
       "1                               The Shape of Water  123 min   \n",
       "2                                        Moonlight  111 min   \n",
       "3                                        Spotlight  129 min   \n",
       "4  Birdman or (The Unexpected Virtue of Ignorance)  119 min   \n",
       "5                                 12 Years a Slave  134 min   \n",
       "6                                             Argo  120 min   \n",
       "7                                       The Artist  100 min   \n",
       "8                                The King's Speech  118 min   \n",
       "\n",
       "              Drama, Thriller  Won 4 Oscars. 306 wins & 264 nominations total  \\\n",
       "0    Biography, Comedy, Drama   Won 3 Oscars. 58 wins & 123 nominations total   \n",
       "1     Drama, Fantasy, Romance  Won 4 Oscars. 136 wins & 350 nominations total   \n",
       "2                       Drama  Won 3 Oscars. 231 wins & 300 nominations total   \n",
       "3     Biography, Crime, Drama  Won 2 Oscars. 124 wins & 144 nominations total   \n",
       "4               Comedy, Drama  Won 4 Oscars. 193 wins & 293 nominations total   \n",
       "5   Biography, Drama, History  Won 3 Oscars. 242 wins & 337 nominations total   \n",
       "6  Biography, Drama, Thriller   Won 3 Oscars. 95 wins & 156 nominations total   \n",
       "7      Comedy, Drama, Romance  Won 5 Oscars. 162 wins & 204 nominations total   \n",
       "8   Biography, Drama, History  Won 4 Oscars. 108 wins & 206 nominations total   \n",
       "\n",
       "    $53,369,749  \n",
       "0   $85,080,171  \n",
       "1   $63,859,435  \n",
       "2   $27,854,932  \n",
       "3   $45,055,776  \n",
       "4   $42,340,598  \n",
       "5   $56,671,993  \n",
       "6  $136,025,503  \n",
       "7   $44,671,682  \n",
       "8  $138,797,449  "
      ]
     },
     "execution_count": 4,
     "metadata": {},
     "output_type": "execute_result"
    }
   ],
   "source": [
    "movie = pd.read_csv(r'data_movie.csv')\n",
    "movie"
   ]
  },
  {
   "cell_type": "markdown",
   "metadata": {},
   "source": [
    "### Answer the following questions in your notebook file:\n",
    "#### 1.(Graph) What was the runtime for each movie?"
   ]
  },
  {
   "cell_type": "code",
   "execution_count": 5,
   "metadata": {},
   "outputs": [
    {
     "ename": "KeyError",
     "evalue": "'Movie Title'",
     "output_type": "error",
     "traceback": [
      "\u001b[1;31m---------------------------------------------------------------------------\u001b[0m",
      "\u001b[1;31mKeyError\u001b[0m                                  Traceback (most recent call last)",
      "File \u001b[1;32m~\\AppData\\Local\\Packages\\PythonSoftwareFoundation.Python.3.11_qbz5n2kfra8p0\\LocalCache\\local-packages\\Python311\\site-packages\\pandas\\core\\indexes\\base.py:3653\u001b[0m, in \u001b[0;36mIndex.get_loc\u001b[1;34m(self, key)\u001b[0m\n\u001b[0;32m   3652\u001b[0m \u001b[39mtry\u001b[39;00m:\n\u001b[1;32m-> 3653\u001b[0m     \u001b[39mreturn\u001b[39;00m \u001b[39mself\u001b[39;49m\u001b[39m.\u001b[39;49m_engine\u001b[39m.\u001b[39;49mget_loc(casted_key)\n\u001b[0;32m   3654\u001b[0m \u001b[39mexcept\u001b[39;00m \u001b[39mKeyError\u001b[39;00m \u001b[39mas\u001b[39;00m err:\n",
      "File \u001b[1;32m~\\AppData\\Local\\Packages\\PythonSoftwareFoundation.Python.3.11_qbz5n2kfra8p0\\LocalCache\\local-packages\\Python311\\site-packages\\pandas\\_libs\\index.pyx:147\u001b[0m, in \u001b[0;36mpandas._libs.index.IndexEngine.get_loc\u001b[1;34m()\u001b[0m\n",
      "File \u001b[1;32m~\\AppData\\Local\\Packages\\PythonSoftwareFoundation.Python.3.11_qbz5n2kfra8p0\\LocalCache\\local-packages\\Python311\\site-packages\\pandas\\_libs\\index.pyx:176\u001b[0m, in \u001b[0;36mpandas._libs.index.IndexEngine.get_loc\u001b[1;34m()\u001b[0m\n",
      "File \u001b[1;32mpandas\\_libs\\hashtable_class_helper.pxi:7080\u001b[0m, in \u001b[0;36mpandas._libs.hashtable.PyObjectHashTable.get_item\u001b[1;34m()\u001b[0m\n",
      "File \u001b[1;32mpandas\\_libs\\hashtable_class_helper.pxi:7088\u001b[0m, in \u001b[0;36mpandas._libs.hashtable.PyObjectHashTable.get_item\u001b[1;34m()\u001b[0m\n",
      "\u001b[1;31mKeyError\u001b[0m: 'Movie Title'",
      "\nThe above exception was the direct cause of the following exception:\n",
      "\u001b[1;31mKeyError\u001b[0m                                  Traceback (most recent call last)",
      "Cell \u001b[1;32mIn[5], line 3\u001b[0m\n\u001b[0;32m      1\u001b[0m plt\u001b[39m.\u001b[39mfigure(figsize\u001b[39m=\u001b[39m[\u001b[39m15\u001b[39m,\u001b[39m6\u001b[39m])\n\u001b[0;32m      2\u001b[0m plt\u001b[39m.\u001b[39mxticks(rotation\u001b[39m=\u001b[39m\u001b[39m45\u001b[39m)\n\u001b[1;32m----> 3\u001b[0m plt\u001b[39m.\u001b[39mbar(movie[\u001b[39m'\u001b[39;49m\u001b[39mMovie Title\u001b[39;49m\u001b[39m'\u001b[39;49m], movie[\u001b[39m'\u001b[39m\u001b[39mRuntime\u001b[39m\u001b[39m'\u001b[39m], width\u001b[39m=\u001b[39m\u001b[39m0.8\u001b[39m)\n\u001b[0;32m      5\u001b[0m plt\u001b[39m.\u001b[39mtitle(\u001b[39m'\u001b[39m\u001b[39mMovie Runtimes\u001b[39m\u001b[39m'\u001b[39m, fontsize\u001b[39m=\u001b[39m\u001b[39m25\u001b[39m)\n\u001b[0;32m      6\u001b[0m plt\u001b[39m.\u001b[39mxlabel(\u001b[39m'\u001b[39m\u001b[39mMovie Title\u001b[39m\u001b[39m'\u001b[39m, fontsize\u001b[39m=\u001b[39m\u001b[39m20\u001b[39m)\n",
      "File \u001b[1;32m~\\AppData\\Local\\Packages\\PythonSoftwareFoundation.Python.3.11_qbz5n2kfra8p0\\LocalCache\\local-packages\\Python311\\site-packages\\pandas\\core\\frame.py:3761\u001b[0m, in \u001b[0;36mDataFrame.__getitem__\u001b[1;34m(self, key)\u001b[0m\n\u001b[0;32m   3759\u001b[0m \u001b[39mif\u001b[39;00m \u001b[39mself\u001b[39m\u001b[39m.\u001b[39mcolumns\u001b[39m.\u001b[39mnlevels \u001b[39m>\u001b[39m \u001b[39m1\u001b[39m:\n\u001b[0;32m   3760\u001b[0m     \u001b[39mreturn\u001b[39;00m \u001b[39mself\u001b[39m\u001b[39m.\u001b[39m_getitem_multilevel(key)\n\u001b[1;32m-> 3761\u001b[0m indexer \u001b[39m=\u001b[39m \u001b[39mself\u001b[39;49m\u001b[39m.\u001b[39;49mcolumns\u001b[39m.\u001b[39;49mget_loc(key)\n\u001b[0;32m   3762\u001b[0m \u001b[39mif\u001b[39;00m is_integer(indexer):\n\u001b[0;32m   3763\u001b[0m     indexer \u001b[39m=\u001b[39m [indexer]\n",
      "File \u001b[1;32m~\\AppData\\Local\\Packages\\PythonSoftwareFoundation.Python.3.11_qbz5n2kfra8p0\\LocalCache\\local-packages\\Python311\\site-packages\\pandas\\core\\indexes\\base.py:3655\u001b[0m, in \u001b[0;36mIndex.get_loc\u001b[1;34m(self, key)\u001b[0m\n\u001b[0;32m   3653\u001b[0m     \u001b[39mreturn\u001b[39;00m \u001b[39mself\u001b[39m\u001b[39m.\u001b[39m_engine\u001b[39m.\u001b[39mget_loc(casted_key)\n\u001b[0;32m   3654\u001b[0m \u001b[39mexcept\u001b[39;00m \u001b[39mKeyError\u001b[39;00m \u001b[39mas\u001b[39;00m err:\n\u001b[1;32m-> 3655\u001b[0m     \u001b[39mraise\u001b[39;00m \u001b[39mKeyError\u001b[39;00m(key) \u001b[39mfrom\u001b[39;00m \u001b[39merr\u001b[39;00m\n\u001b[0;32m   3656\u001b[0m \u001b[39mexcept\u001b[39;00m \u001b[39mTypeError\u001b[39;00m:\n\u001b[0;32m   3657\u001b[0m     \u001b[39m# If we have a listlike key, _check_indexing_error will raise\u001b[39;00m\n\u001b[0;32m   3658\u001b[0m     \u001b[39m#  InvalidIndexError. Otherwise we fall through and re-raise\u001b[39;00m\n\u001b[0;32m   3659\u001b[0m     \u001b[39m#  the TypeError.\u001b[39;00m\n\u001b[0;32m   3660\u001b[0m     \u001b[39mself\u001b[39m\u001b[39m.\u001b[39m_check_indexing_error(key)\n",
      "\u001b[1;31mKeyError\u001b[0m: 'Movie Title'"
     ]
    },
    {
     "data": {
      "image/png": "[encoded data removed]",
      "text/plain": [
       "<Figure size 1500x600 with 1 Axes>"
      ]
     },
     "metadata": {},
     "output_type": "display_data"
    }
   ],
   "source": [
    "plt.figure(figsize=[15,6])\n",
    "plt.xticks(rotation=45)\n",
    "plt.bar(movie['Movie Title'], movie['Runtime'], width=0.8)\n",
    "\n",
    "plt.title('Movie Runtimes', fontsize=25)\n",
    "plt.xlabel('Movie Title', fontsize=20)\n",
    "plt.ylabel('Runtime(Minutes)', fontsize=20)\n",
    "\n",
    "plt.show()"
   ]
  },
  {
   "cell_type": "markdown",
   "metadata": {},
   "source": [
    "#### 2. What movie had the longest runtime?\n",
    "- Answer: the movie with the longest runtime is 'Drive My Car'.\n"
   ]
  },
  {
   "cell_type": "markdown",
   "metadata": {},
   "source": [
    "#### 3. Is there any relationship between the length of the movie (runtime) and the number of awards a movie won?\n",
    "- Answer: as you can see the scatter plot below, There are no relationship between runtime and the number of awards a movie won"
   ]
  },
  {
   "cell_type": "code",
   "execution_count": null,
   "metadata": {},
   "outputs": [],
   "source": [
    "plt.figure(figsize=[15,7])\n",
    "plt.scatter(movie['Runtime'], movie['Award Wins'])\n",
    "plt.title('The relationship between Runtime and Award Wins')\n",
    "plt.xlabel('Movie Runtime')\n",
    "plt.ylabel('Award Wins')\n",
    "plt.show()"
   ]
  },
  {
   "cell_type": "markdown",
   "metadata": {},
   "source": [
    "#### 4. (Graph) How many awards and nominations did each movie receive?"
   ]
  },
  {
   "cell_type": "code",
   "execution_count": null,
   "metadata": {},
   "outputs": [],
   "source": [
    "plt.figure(figsize=[15,7])\n",
    "plt.xticks(rotation=75)\n",
    "\n",
    "X_axis = np.arange(len(movie['Movie Title']))\n",
    "plt.bar(X_axis + 0.3, movie['Award Wins'],0.5,label=\"Award Wins\")\n",
    "plt.bar(X_axis - 0.3, movies['Award Nominations'],0.5,label=\"Award Nominations\")\n",
    "plt.xticks(X_axis, movie['Movie Title'])\n",
    "plt.legend()\n",
    "plt.ylabel('Total Award', fontsize=16)\n",
    "plt.xlabel('Movie Title', fontsize=16)\n",
    "plt.title('Number of Award Wins and Award Nominations Each Movie Won', fontsize=20)"
   ]
  }
 ],
 "metadata": {
  "kernelspec": {
   "display_name": "Python 3",
   "language": "python",
   "name": "python3"
  },
  "language_info": {
   "codemirror_mode": {
    "name": "ipython",
    "version": 3
   },
   "file_extension": ".py",
   "mimetype": "text/x-python",
   "name": "python",
   "nbconvert_exporter": "python",
   "pygments_lexer": "ipython3",
   "version": "3.11.4"
  },
  "orig_nbformat": 4
 },
 "nbformat": 4,
 "nbformat_minor": 2
}
